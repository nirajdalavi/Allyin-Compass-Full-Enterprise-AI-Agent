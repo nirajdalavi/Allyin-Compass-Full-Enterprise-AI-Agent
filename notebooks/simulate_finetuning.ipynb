{
 "cells": [
  {
   "cell_type": "code",
   "execution_count": 1,
   "id": "da513e89",
   "metadata": {},
   "outputs": [],
   "source": [
    "# 1. Install required packages (only if running in a clean environment)\n",
    "!pip install transformers datasets peft bitsandbytes accelerate -q"
   ]
  },
  {
   "cell_type": "code",
   "execution_count": 1,
   "id": "4fcd36ec",
   "metadata": {},
   "outputs": [],
   "source": [
    "# 2. Imports\n",
    "from datasets import load_dataset, Dataset\n",
    "from peft import LoraConfig, get_peft_model, TaskType, prepare_model_for_kbit_training\n",
    "from transformers import AutoModelForCausalLM, AutoTokenizer, TrainingArguments, Trainer, BitsAndBytesConfig\n",
    "import torch\n",
    "import json\n",
    "import os"
   ]
  },
  {
   "cell_type": "code",
   "execution_count": 2,
   "id": "9648135e",
   "metadata": {},
   "outputs": [
    {
     "name": "stdout",
     "output_type": "stream",
     "text": [
      "Loaded examples: 20\n"
     ]
    }
   ],
   "source": [
    "# 3. Load the feedback data\n",
    "with open(\"../src/feedback/finetune_data.jsonl\", \"r\") as f:\n",
    "    lines = [json.loads(l) for l in f if l.strip()]\n",
    "\n",
    "dataset = Dataset.from_list(lines)\n",
    "print(\"Loaded examples:\", len(dataset))\n"
   ]
  },
  {
   "cell_type": "code",
   "execution_count": 3,
   "id": "d8ffecb8",
   "metadata": {},
   "outputs": [],
   "source": [
    "from transformers import AutoTokenizer, AutoModelForSeq2SeqLM\n",
    "\n",
    "model_id = \"google/flan-t5-small\"\n",
    "\n",
    "# Load tokenizer and model (no quantization, no bnb)\n",
    "tokenizer = AutoTokenizer.from_pretrained(model_id)\n",
    "model = AutoModelForSeq2SeqLM.from_pretrained(model_id)\n",
    "\n",
    "# Set padding token (important for training)\n",
    "tokenizer.pad_token = tokenizer.eos_token"
   ]
  },
  {
   "cell_type": "code",
   "execution_count": 4,
   "id": "eed30dde",
   "metadata": {},
   "outputs": [
    {
     "name": "stderr",
     "output_type": "stream",
     "text": [
      "bitsandbytes library load error: dlopen(/opt/anaconda3/envs/allyin/lib/python3.12/site-packages/bitsandbytes/libbitsandbytes_cpu.dylib, 0x0006): tried: '/opt/anaconda3/envs/allyin/lib/python3.12/site-packages/bitsandbytes/libbitsandbytes_cpu.dylib' (no such file), '/System/Volumes/Preboot/Cryptexes/OS/opt/anaconda3/envs/allyin/lib/python3.12/site-packages/bitsandbytes/libbitsandbytes_cpu.dylib' (no such file), '/opt/anaconda3/envs/allyin/lib/python3.12/site-packages/bitsandbytes/libbitsandbytes_cpu.dylib' (no such file)\n",
      "Traceback (most recent call last):\n",
      "  File \"/opt/anaconda3/envs/allyin/lib/python3.12/site-packages/bitsandbytes/cextension.py\", line 287, in <module>\n",
      "    lib = get_native_library()\n",
      "          ^^^^^^^^^^^^^^^^^^^^\n",
      "  File \"/opt/anaconda3/envs/allyin/lib/python3.12/site-packages/bitsandbytes/cextension.py\", line 274, in get_native_library\n",
      "    dll = ct.cdll.LoadLibrary(str(binary_path))\n",
      "          ^^^^^^^^^^^^^^^^^^^^^^^^^^^^^^^^^^^^^\n",
      "  File \"/opt/anaconda3/envs/allyin/lib/python3.12/ctypes/__init__.py\", line 460, in LoadLibrary\n",
      "    return self._dlltype(name)\n",
      "           ^^^^^^^^^^^^^^^^^^^\n",
      "  File \"/opt/anaconda3/envs/allyin/lib/python3.12/ctypes/__init__.py\", line 379, in __init__\n",
      "    self._handle = _dlopen(self._name, mode)\n",
      "                   ^^^^^^^^^^^^^^^^^^^^^^^^^\n",
      "OSError: dlopen(/opt/anaconda3/envs/allyin/lib/python3.12/site-packages/bitsandbytes/libbitsandbytes_cpu.dylib, 0x0006): tried: '/opt/anaconda3/envs/allyin/lib/python3.12/site-packages/bitsandbytes/libbitsandbytes_cpu.dylib' (no such file), '/System/Volumes/Preboot/Cryptexes/OS/opt/anaconda3/envs/allyin/lib/python3.12/site-packages/bitsandbytes/libbitsandbytes_cpu.dylib' (no such file), '/opt/anaconda3/envs/allyin/lib/python3.12/site-packages/bitsandbytes/libbitsandbytes_cpu.dylib' (no such file)\n"
     ]
    }
   ],
   "source": [
    "# 5. Apply LoRA\n",
    "from peft import LoraConfig, get_peft_model, TaskType\n",
    "\n",
    "lora_config = LoraConfig(\n",
    "    r=8,\n",
    "    lora_alpha=16,\n",
    "    target_modules=[\"q\", \"v\"],  # T5 uses different layer names\n",
    "    lora_dropout=0.1,\n",
    "    bias=\"none\",\n",
    "    task_type=TaskType.SEQ_2_SEQ_LM,\n",
    ")\n",
    "\n",
    "model = get_peft_model(model, lora_config)"
   ]
  },
  {
   "cell_type": "code",
   "execution_count": 5,
   "id": "de9f4bac",
   "metadata": {},
   "outputs": [
    {
     "data": {
      "application/vnd.jupyter.widget-view+json": {
       "model_id": "f22ecec1f69948a4a49124f4dc4651a6",
       "version_major": 2,
       "version_minor": 0
      },
      "text/plain": [
       "Map:   0%|          | 0/20 [00:00<?, ? examples/s]"
      ]
     },
     "metadata": {},
     "output_type": "display_data"
    }
   ],
   "source": [
    "# 6. Format dataset for SFT\n",
    "def format_prompt(example):\n",
    "    inputs = tokenizer(example[\"prompt\"], truncation=True, padding=\"max_length\", max_length=512)\n",
    "    targets = tokenizer(example[\"completion\"], truncation=True, padding=\"max_length\", max_length=512)\n",
    "\n",
    "    return {\n",
    "        \"input_ids\": inputs.input_ids,\n",
    "        \"attention_mask\": inputs.attention_mask,\n",
    "        \"labels\": targets.input_ids,\n",
    "    }\n",
    "\n",
    "tokenized_dataset = dataset.map(format_prompt, remove_columns=dataset.column_names)"
   ]
  },
  {
   "cell_type": "code",
   "execution_count": 7,
   "id": "02577a60",
   "metadata": {},
   "outputs": [
    {
     "name": "stderr",
     "output_type": "stream",
     "text": [
      "/var/folders/fc/t8b4fmzd1vn4x8ky425rp7l40000gn/T/ipykernel_30282/2507841326.py:15: FutureWarning: `tokenizer` is deprecated and will be removed in version 5.0.0 for `Trainer.__init__`. Use `processing_class` instead.\n",
      "  trainer = Trainer(\n",
      "No label_names provided for model class `PeftModelForSeq2SeqLM`. Since `PeftModel` hides base models input arguments, if label_names is not given, label_names can't be set automatically within `Trainer`. Note that empty label_names list will be used instead.\n"
     ]
    },
    {
     "data": {
      "text/html": [
       "\n",
       "    <div>\n",
       "      \n",
       "      <progress value='10' max='10' style='width:300px; height:20px; vertical-align: middle;'></progress>\n",
       "      [10/10 00:06, Epoch 2/2]\n",
       "    </div>\n",
       "    <table border=\"1\" class=\"dataframe\">\n",
       "  <thead>\n",
       " <tr style=\"text-align: left;\">\n",
       "      <th>Step</th>\n",
       "      <th>Training Loss</th>\n",
       "    </tr>\n",
       "  </thead>\n",
       "  <tbody>\n",
       "    <tr>\n",
       "      <td>10</td>\n",
       "      <td>3.144500</td>\n",
       "    </tr>\n",
       "  </tbody>\n",
       "</table><p>"
      ],
      "text/plain": [
       "<IPython.core.display.HTML object>"
      ]
     },
     "metadata": {},
     "output_type": "display_data"
    },
    {
     "data": {
      "text/plain": [
       "TrainOutput(global_step=10, training_loss=3.144534873962402, metrics={'train_runtime': 7.5119, 'train_samples_per_second': 5.325, 'train_steps_per_second': 1.331, 'total_flos': 7477898772480.0, 'train_loss': 3.144534873962402, 'epoch': 2.0})"
      ]
     },
     "execution_count": 7,
     "metadata": {},
     "output_type": "execute_result"
    }
   ],
   "source": [
    "# 7. Define training args\n",
    "training_args = TrainingArguments(\n",
    "    output_dir=\"../models/lora_adapter\",\n",
    "    per_device_train_batch_size=1,\n",
    "    gradient_accumulation_steps=4,\n",
    "    logging_steps=10,\n",
    "    num_train_epochs=2,\n",
    "    save_strategy=\"no\",  # Or \"epoch\" if you want to save\n",
    "    learning_rate=2e-4,\n",
    "    fp16=False,          # Set True only if your GPU supports it\n",
    "    bf16=True,           # Safer on newer hardware, esp. MPS\n",
    "    report_to=\"none\",\n",
    ")\n",
    "\n",
    "trainer = Trainer(\n",
    "    model=model,\n",
    "    args=training_args,\n",
    "    train_dataset=tokenized_dataset,\n",
    "    tokenizer=tokenizer,\n",
    ")\n",
    "\n",
    "# 8. Train\n",
    "trainer.train()"
   ]
  },
  {
   "cell_type": "code",
   "execution_count": 8,
   "id": "95502ff1",
   "metadata": {},
   "outputs": [
    {
     "name": "stdout",
     "output_type": "stream",
     "text": [
      "Fine-tuning simulation complete. LoRA adapter saved.\n"
     ]
    }
   ],
   "source": [
    "# 9. Save adapter\n",
    "model.save_pretrained(\"../models/lora_adapter\")\n",
    "tokenizer.save_pretrained(\"../models/lora_adapter\")\n",
    "\n",
    "print(\"Fine-tuning simulation complete. LoRA adapter saved.\")"
   ]
  }
 ],
 "metadata": {
  "kernelspec": {
   "display_name": "allyin",
   "language": "python",
   "name": "python3"
  },
  "language_info": {
   "codemirror_mode": {
    "name": "ipython",
    "version": 3
   },
   "file_extension": ".py",
   "mimetype": "text/x-python",
   "name": "python",
   "nbconvert_exporter": "python",
   "pygments_lexer": "ipython3",
   "version": "3.12.9"
  }
 },
 "nbformat": 4,
 "nbformat_minor": 5
}
